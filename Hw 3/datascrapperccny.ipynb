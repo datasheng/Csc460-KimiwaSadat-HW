{
 "cells": [
  {
   "cell_type": "code",
   "execution_count": null,
   "id": "77981177-ee3e-4931-8b9b-4c9a9a1423bb",
   "metadata": {},
   "outputs": [],
   "source": []
  }
 ],
 "metadata": {
  "kernelspec": {
   "display_name": "",
   "name": ""
  },
  "language_info": {
   "name": ""
  }
 },
 "nbformat": 4,
 "nbformat_minor": 5
}
