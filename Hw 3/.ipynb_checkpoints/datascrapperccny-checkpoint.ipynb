{
 "cells": [
  {
   "cell_type": "code",
   "execution_count": 36,
   "id": "460f5ce7",
   "metadata": {},
   "outputs": [],
   "source": [
    "# Import necessary libraries\n",
    "import requests\n",
    "from bs4 import BeautifulSoup\n",
    "import pandas as pd\n",
    "from datetime import datetime"
   ]
  },
  {
   "cell_type": "code",
   "execution_count": 37,
   "id": "b8d8cb30",
   "metadata": {},
   "outputs": [],
   "source": [
    "url = \"https://www.ccny.cuny.edu/registrar/fall\"\n",
    "response = requests.get(url)\n",
    "#get the html content from the url and put into requests"
   ]
  },
  {
   "cell_type": "code",
   "execution_count": null,
   "id": "ca9de6a8",
   "metadata": {},
   "outputs": [],
   "source": [
    "soup = BeautifulSoup(response.text, 'html.parser')\n",
    "soup.prettify()\n",
    "\n",
    "table = soup.find('table')\n",
    "rows = soup.find_all(\"tr\")\n",
    "rowsinfo = soup.find_all(\"td\")\n",
    "print(rows)\n",
    "print(rowsinfo)\n"
   ]
  },
  {
   "cell_type": "code",
   "execution_count": 39,
   "id": "8fe86bfd",
   "metadata": {},
   "outputs": [],
   "source": [
    "#making empty wlist with dates day of week(dow) and event\n",
    "dates = []\n",
    "dow = []\n",
    "events = []\n",
    "\n",
    "#looping through rowsinfo and getting the dates, dow, and events\n",
    "for row in rows:\n",
    "    cells = row.find_all('td')\n",
    "    if len(cells) >= 3:\n",
    "        date_str = cells[0].text.strip()\n",
    "        day_of_week = cells[1].text.strip()\n",
    "        event_description = cells[2].text.strip()\n",
    "\n",
    "  # Convert the date to datetime format\n",
    "        try:\n",
    "            # Assume the date format is \"Month Day\" (e.g., \"September 9\")\n",
    "            date = datetime.strptime(date_str, '%B %d').replace(year=2021)  # Set the year to 2021\n",
    "            dates.append(date)\n",
    "            dow.append(day_of_week)\n",
    "            events.append(event_description)\n",
    "        except ValueError:\n",
    "            continue  # Skip invalid date formats\n",
    "\n"
   ]
  },
  {
   "cell_type": "code",
   "execution_count": 42,
   "id": "c16c08db",
   "metadata": {},
   "outputs": [
    {
     "name": "stdout",
     "output_type": "stream",
     "text": [
      "                  dow                                               text\n",
      "date                                                                    \n",
      "2021-08-01     Sunday  Application for degree for January and Februar...\n",
      "2021-08-18  Wednesday                 Last day to apply for Study Abroad\n",
      "2021-08-24    Tuesday  Last day of Registration; Last day to file ePe...\n",
      "2021-08-25  Wednesday  Start of Fall Term; Classes begin; Initial Reg...\n",
      "2021-08-26   Thursday                     Last day for Independent Study\n",
      "2021-08-28   Saturday                      First day of Saturday Classes\n",
      "2021-08-31    Tuesday  Last day to add a class to an existing enrollm...\n",
      "2021-09-01  Wednesday  Verification of Enrollment rosters available t...\n",
      "2021-09-06     Monday   College Closed; Last day for 50% tuition refund;\n",
      "2021-09-09   Thursday                               Freshman Convocation\n",
      "2021-09-14    Tuesday  Last day for 25% tuition refund; Census date; ...\n",
      "2021-09-15  Wednesday  Assignment of 'WN' grades for non-attendance; ...\n",
      "2021-09-23   Thursday  Last day to submit proof of immunization for N...\n",
      "2021-09-24     Friday  Assignment of 'WA' grades for immunization non...\n",
      "2021-10-01     Friday  Advising month begins for Spring and Winter en...\n",
      "2021-10-08     Friday  Deadline for filing application for degree for...\n",
      "2021-10-11     Monday                                     College Closed\n",
      "2021-11-01     Monday  'INC' grades for Spring 2021 and Winter 2021 f...\n",
      "2021-11-02    Tuesday  Registration appointments for Winter and Sprin...\n",
      "2021-11-04   Thursday                   Last day to file for P/NC option\n",
      "2021-11-06   Saturday                               60% Date of the term\n",
      "2021-11-23    Tuesday  'INC' grades for Summer 2021 for Undergraduate...\n",
      "2021-12-11   Saturday                       Last day of Saturday Classes\n",
      "2021-12-13     Monday  Course Withdrawal period ends (Last day to wit...\n",
      "2021-12-14    Tuesday                                        Reading Day\n",
      "2021-12-21    Tuesday                                        End of Term\n",
      "2021-12-27     Monday                                     College Closed\n",
      "2021-12-28    Tuesday      Final Grade Submission Deadline for Fall 2021\n",
      "2021-12-31     Friday                                     College Closed\n"
     ]
    }
   ],
   "source": [
    "# Create a DataFrame\n",
    "df = pd.DataFrame({\n",
    "    'date': dates,\n",
    "    'dow': dow,\n",
    "    'text': events\n",
    "})\n",
    "\n",
    "# Clean the 'text' column by removing newline and tab characters\n",
    "df['text'] = df['text'].str.replace(r'\\n\\t*', ' ', regex=True)\n",
    "\n",
    "# Set 'date' as the index of the DataFrame\n",
    "df.set_index('date', inplace=True)\n",
    "\n",
    "\n",
    "# Display the first few rows of the DataFrame\n",
    "pd.set_option('display.max_rows', None)\n",
    "print(df)"
   ]
  }
 ],
 "metadata": {
  "kernelspec": {
   "display_name": "Python 3",
   "language": "python",
   "name": "python3"
  },
  "language_info": {
   "codemirror_mode": {
    "name": "ipython",
    "version": 3
   },
   "file_extension": ".py",
   "mimetype": "text/x-python",
   "name": "python",
   "nbconvert_exporter": "python",
   "pygments_lexer": "ipython3",
   "version": "3.13.1"
  }
 },
 "nbformat": 4,
 "nbformat_minor": 5
}
